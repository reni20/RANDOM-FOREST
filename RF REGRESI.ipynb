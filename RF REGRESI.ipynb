{
 "cells": [
  {
   "cell_type": "code",
   "execution_count": 1,
   "metadata": {},
   "outputs": [],
   "source": [
    "import numpy as np\n",
    "import pandas as pd\n",
    "from IPython.display import display\n",
    "from sklearn.preprocessing import LabelEncoder\n",
    "from sklearn.preprocessing import StandardScaler\n",
    "from sklearn.model_selection import train_test_split\n",
    "from sklearn.model_selection import train_test_split, GridSearchCV, StratifiedKFold\n",
    "from sklearn.pipeline import Pipeline\n",
    "from sklearn.neural_network import MLPClassifier\n",
    "from sklearn.metrics import r2_score\n",
    "from sklearn.ensemble import RandomForestRegressor\n",
    "from sklearn import linear_model\n",
    "from sklearn.metrics import mean_squared_log_error, mean_absolute_error\n",
    "import matplotlib.pyplot as plt\n",
    "import matplotlib.pyplot as matplotlib\n",
    "from matplotlib.lines import Line2D\n",
    "from scipy.stats import pearsonr\n",
    "import seaborn\n",
    "from sklearn.datasets import load_breast_cancer\n",
    "from sklearn import metrics\n",
    "from sklearn import tree\n",
    "import warnings\n",
    "import pickle\n",
    "import xlrd"
   ]
  },
  {
   "cell_type": "code",
   "execution_count": 2,
   "metadata": {},
   "outputs": [
    {
     "data": {
      "text/html": [
       "<div>\n",
       "<style scoped>\n",
       "    .dataframe tbody tr th:only-of-type {\n",
       "        vertical-align: middle;\n",
       "    }\n",
       "\n",
       "    .dataframe tbody tr th {\n",
       "        vertical-align: top;\n",
       "    }\n",
       "\n",
       "    .dataframe thead th {\n",
       "        text-align: right;\n",
       "    }\n",
       "</style>\n",
       "<table border=\"1\" class=\"dataframe\">\n",
       "  <thead>\n",
       "    <tr style=\"text-align: right;\">\n",
       "      <th></th>\n",
       "      <th>Merk</th>\n",
       "      <th>Series</th>\n",
       "      <th>Memori</th>\n",
       "      <th>RAM</th>\n",
       "      <th>Harga</th>\n",
       "    </tr>\n",
       "  </thead>\n",
       "  <tbody>\n",
       "    <tr>\n",
       "      <th>0</th>\n",
       "      <td>Lenovo</td>\n",
       "      <td>K6 Note</td>\n",
       "      <td>32 GB</td>\n",
       "      <td>3 GB</td>\n",
       "      <td>1500000</td>\n",
       "    </tr>\n",
       "    <tr>\n",
       "      <th>1</th>\n",
       "      <td>Samsung</td>\n",
       "      <td>Galaxy J8</td>\n",
       "      <td>64 GB</td>\n",
       "      <td>4 GB</td>\n",
       "      <td>3149000</td>\n",
       "    </tr>\n",
       "    <tr>\n",
       "      <th>2</th>\n",
       "      <td>OPPO</td>\n",
       "      <td>A35</td>\n",
       "      <td>16 GB</td>\n",
       "      <td>2 GB</td>\n",
       "      <td>2000000</td>\n",
       "    </tr>\n",
       "    <tr>\n",
       "      <th>3</th>\n",
       "      <td>Sony</td>\n",
       "      <td>Xperia ZR C5503</td>\n",
       "      <td>16 GB</td>\n",
       "      <td>2 GB</td>\n",
       "      <td>1650000</td>\n",
       "    </tr>\n",
       "    <tr>\n",
       "      <th>4</th>\n",
       "      <td>Nokia</td>\n",
       "      <td>6.1 Plus</td>\n",
       "      <td>64 GB</td>\n",
       "      <td>6 GB</td>\n",
       "      <td>2899000</td>\n",
       "    </tr>\n",
       "  </tbody>\n",
       "</table>\n",
       "</div>"
      ],
      "text/plain": [
       "      Merk           Series Memori   RAM    Harga\n",
       "0   Lenovo          K6 Note  32 GB  3 GB  1500000\n",
       "1  Samsung        Galaxy J8  64 GB  4 GB  3149000\n",
       "2     OPPO              A35  16 GB  2 GB  2000000\n",
       "3     Sony  Xperia ZR C5503  16 GB  2 GB  1650000\n",
       "4    Nokia         6.1 Plus  64 GB  6 GB  2899000"
      ]
     },
     "execution_count": 2,
     "metadata": {},
     "output_type": "execute_result"
    }
   ],
   "source": [
    "df= pd.read_excel('ponsel.xlsx')\n",
    "df.head()"
   ]
  },
  {
   "cell_type": "code",
   "execution_count": 3,
   "metadata": {},
   "outputs": [
    {
     "data": {
      "text/html": [
       "<div>\n",
       "<style scoped>\n",
       "    .dataframe tbody tr th:only-of-type {\n",
       "        vertical-align: middle;\n",
       "    }\n",
       "\n",
       "    .dataframe tbody tr th {\n",
       "        vertical-align: top;\n",
       "    }\n",
       "\n",
       "    .dataframe thead th {\n",
       "        text-align: right;\n",
       "    }\n",
       "</style>\n",
       "<table border=\"1\" class=\"dataframe\">\n",
       "  <thead>\n",
       "    <tr style=\"text-align: right;\">\n",
       "      <th></th>\n",
       "      <th>Harga</th>\n",
       "    </tr>\n",
       "  </thead>\n",
       "  <tbody>\n",
       "    <tr>\n",
       "      <th>count</th>\n",
       "      <td>1.013000e+03</td>\n",
       "    </tr>\n",
       "    <tr>\n",
       "      <th>mean</th>\n",
       "      <td>3.186133e+06</td>\n",
       "    </tr>\n",
       "    <tr>\n",
       "      <th>std</th>\n",
       "      <td>3.511478e+06</td>\n",
       "    </tr>\n",
       "    <tr>\n",
       "      <th>min</th>\n",
       "      <td>6.490000e+05</td>\n",
       "    </tr>\n",
       "    <tr>\n",
       "      <th>25%</th>\n",
       "      <td>1.250000e+06</td>\n",
       "    </tr>\n",
       "    <tr>\n",
       "      <th>50%</th>\n",
       "      <td>1.899000e+06</td>\n",
       "    </tr>\n",
       "    <tr>\n",
       "      <th>75%</th>\n",
       "      <td>3.699000e+06</td>\n",
       "    </tr>\n",
       "    <tr>\n",
       "      <th>max</th>\n",
       "      <td>3.499900e+07</td>\n",
       "    </tr>\n",
       "  </tbody>\n",
       "</table>\n",
       "</div>"
      ],
      "text/plain": [
       "              Harga\n",
       "count  1.013000e+03\n",
       "mean   3.186133e+06\n",
       "std    3.511478e+06\n",
       "min    6.490000e+05\n",
       "25%    1.250000e+06\n",
       "50%    1.899000e+06\n",
       "75%    3.699000e+06\n",
       "max    3.499900e+07"
      ]
     },
     "execution_count": 3,
     "metadata": {},
     "output_type": "execute_result"
    }
   ],
   "source": [
    "df.describe()"
   ]
  },
  {
   "cell_type": "code",
   "execution_count": 4,
   "metadata": {},
   "outputs": [],
   "source": [
    "def _get_category_mapping(column):\n",
    "    \"\"\" Return the mapping of a category \"\"\"\n",
    "    return dict([(cat, code) for code, cat in enumerate(column.cat.categories)])\n",
    "df['Merk'] = df['Merk'].astype('category')\n",
    "merk= _get_category_mapping(df['Merk'])\n",
    "df['Merk'] = df['Merk'].cat.codes\n",
    "\n",
    "df['Series'] = df['Series'].astype('category')\n",
    "series = _get_category_mapping(df['Series'])\n",
    "df['Series'] = df['Series'].cat.codes\n",
    "\n",
    "df['Memori'] = df['Memori'].astype('category')\n",
    "memori = _get_category_mapping(df['Memori'])\n",
    "df['Memori'] = df['Memori'].cat.codes\n",
    "\n",
    "df['RAM'] = df['RAM'].astype('category')\n",
    "ram = _get_category_mapping(df['RAM'])\n",
    "df['RAM'] = df['RAM'].cat.codes"
   ]
  },
  {
   "cell_type": "code",
   "execution_count": 5,
   "metadata": {},
   "outputs": [],
   "source": [
    "#Save Variabel kategorik\n",
    "import joblib\n",
    "\n",
    "def _save_variable(variable, filename):\n",
    "    \"\"\" Save a variable to a file \"\"\"\n",
    "    joblib.dump(variable, filename)\n",
    "_save_variable(merk, 'Merk.pkl')\n",
    "_save_variable(series, 'Series.pkl')\n",
    "_save_variable(ram, 'RAM.pkl')\n",
    "_save_variable(memori, 'Memori.pkl')"
   ]
  },
  {
   "cell_type": "code",
   "execution_count": 6,
   "metadata": {},
   "outputs": [],
   "source": [
    "X = df.iloc[:, 0:4].values\n",
    "y= df.iloc[:, 4]"
   ]
  },
  {
   "cell_type": "code",
   "execution_count": 7,
   "metadata": {},
   "outputs": [],
   "source": [
    "# Menjadi dataset ke dalam Training set and Test set\n",
    "X_train, X_test, y_train, y_test = train_test_split(X, y, test_size = 0.10, random_state = 42)"
   ]
  },
  {
   "cell_type": "code",
   "execution_count": 152,
   "metadata": {},
   "outputs": [
    {
     "data": {
      "text/plain": [
       "Text(0.5, 1.0, 'Feature Importances')"
      ]
     },
     "execution_count": 152,
     "metadata": {},
     "output_type": "execute_result"
    },
    {
     "data": {
      "image/png": "[encoded data removed]",
      "text/plain": [
       "<Figure size 576x576 with 1 Axes>"
      ]
     },
     "metadata": {},
     "output_type": "display_data"
    }
   ],
   "source": [
    "tree_feature =  pd.Series(model.feature_importances_, FEATURES).sort_values(ascending = True)\n",
    "plt.figure(figsize = (8,8))\n",
    "plt.barh(FEATURES, tree_feature)\n",
    "plt.xlabel('Mean Impurity Reduction', fontsize = 12)\n",
    "plt.ylabel('Features', fontsize = 12)\n",
    "plt.yticks(fontsize = 12)\n",
    "plt.title('Feature Importances', fontsize = 20)"
   ]
  },
  {
   "cell_type": "code",
   "execution_count": 8,
   "metadata": {},
   "outputs": [
    {
     "data": {
      "text/plain": [
       "RandomForestRegressor(n_estimators=300, random_state=42)"
      ]
     },
     "execution_count": 8,
     "metadata": {},
     "output_type": "execute_result"
    }
   ],
   "source": [
    "rf = RandomForestRegressor(n_estimators=300, random_state = 42)\n",
    "rf.fit(X_train, y_train)"
   ]
  },
  {
   "cell_type": "code",
   "execution_count": 148,
   "metadata": {},
   "outputs": [],
   "source": [
    "_save_variable(model, 'RFR.mdl')"
   ]
  },
  {
   "cell_type": "code",
   "execution_count": 35,
   "metadata": {},
   "outputs": [
    {
     "name": "stdout",
     "output_type": "stream",
     "text": [
      "Feature ranking:\n",
      "1. Merk (0.10164137023513618)\n",
      "2. Seri (0.47181835650017206)\n",
      "3. RAM (0.13429404771472675)\n",
      "4. Memori (0.292246225549965)\n"
     ]
    }
   ],
   "source": [
    "FEATURES = [\n",
    "    'Merk',\n",
    "    'Seri',\n",
    "    'RAM',\n",
    "    'Memori',\n",
    "]\n",
    "TARGET = 'Harga'\n",
    "#Variabel importance\n",
    "features_importance = rf.feature_importances_\n",
    " \n",
    "print(\"Feature ranking:\")\n",
    "for i, data_class in enumerate(FEATURES):\n",
    "    print(\"{}. {} ({})\".format(i + 1, data_class, features_importance[i]))"
   ]
  },
  {
   "cell_type": "code",
   "execution_count": 9,
   "metadata": {},
   "outputs": [],
   "source": [
    "prediksi = rf.predict(X_test)"
   ]
  },
  {
   "cell_type": "code",
   "execution_count": 10,
   "metadata": {},
   "outputs": [
    {
     "name": "stdout",
     "output_type": "stream",
     "text": [
      "Mean Squared Error: 915942032838.7771\n"
     ]
    }
   ],
   "source": [
    "print('Mean Squared Error:', metrics.mean_squared_error(y_test, prediksi))"
   ]
  },
  {
   "cell_type": "code",
   "execution_count": 11,
   "metadata": {},
   "outputs": [
    {
     "data": {
      "text/plain": [
       "0.8615337442186137"
      ]
     },
     "execution_count": 11,
     "metadata": {},
     "output_type": "execute_result"
    }
   ],
   "source": [
    "r2_score(y_test, prediksi)"
   ]
  },
  {
   "cell_type": "code",
   "execution_count": 12,
   "metadata": {},
   "outputs": [
    {
     "data": {
      "text/plain": [
       "0.9579340632197973"
      ]
     },
     "execution_count": 12,
     "metadata": {},
     "output_type": "execute_result"
    }
   ],
   "source": [
    "# Score model\n",
    "rf.score(X_train, y_train)"
   ]
  },
  {
   "cell_type": "code",
   "execution_count": 13,
   "metadata": {},
   "outputs": [
    {
     "name": "stdout",
     "output_type": "stream",
     "text": [
      "Mean Absolute Error: 619123.4686041084\n",
      "Mean Squared Error: 915942032838.7771\n",
      "Root Mean Squared Error: 957048.6052645274\n"
     ]
    }
   ],
   "source": [
    "print('Mean Absolute Error:', metrics.mean_absolute_error(y_test, prediksi))\n",
    "print('Mean Squared Error:', metrics.mean_squared_error(y_test, prediksi))\n",
    "print('Root Mean Squared Error:', np.sqrt(metrics.mean_squared_error(y_test, prediksi)))"
   ]
  },
  {
   "cell_type": "code",
   "execution_count": 14,
   "metadata": {},
   "outputs": [
    {
     "name": "stdout",
     "output_type": "stream",
     "text": [
      "MAE:\t$619123.47\n",
      "MSLE:\t0.13854\n"
     ]
    }
   ],
   "source": [
    "print('MAE:\\t$%.2f' % mean_absolute_error(y_test, prediksi))\n",
    "print('MSLE:\\t%.5f' % mean_squared_log_error(y_test, prediksi))"
   ]
  },
  {
   "cell_type": "code",
   "execution_count": 15,
   "metadata": {},
   "outputs": [
    {
     "data": {
      "text/html": [
       "<div>\n",
       "<style scoped>\n",
       "    .dataframe tbody tr th:only-of-type {\n",
       "        vertical-align: middle;\n",
       "    }\n",
       "\n",
       "    .dataframe tbody tr th {\n",
       "        vertical-align: top;\n",
       "    }\n",
       "\n",
       "    .dataframe thead th {\n",
       "        text-align: right;\n",
       "    }\n",
       "</style>\n",
       "<table border=\"1\" class=\"dataframe\">\n",
       "  <thead>\n",
       "    <tr style=\"text-align: right;\">\n",
       "      <th></th>\n",
       "      <th>Real Values</th>\n",
       "      <th>Predicted Values</th>\n",
       "    </tr>\n",
       "  </thead>\n",
       "  <tbody>\n",
       "    <tr>\n",
       "      <th>689</th>\n",
       "      <td>999000</td>\n",
       "      <td>8.590869e+05</td>\n",
       "    </tr>\n",
       "    <tr>\n",
       "      <th>518</th>\n",
       "      <td>2048000</td>\n",
       "      <td>2.805973e+06</td>\n",
       "    </tr>\n",
       "    <tr>\n",
       "      <th>940</th>\n",
       "      <td>1368800</td>\n",
       "      <td>2.150501e+06</td>\n",
       "    </tr>\n",
       "    <tr>\n",
       "      <th>96</th>\n",
       "      <td>1980000</td>\n",
       "      <td>1.885706e+06</td>\n",
       "    </tr>\n",
       "    <tr>\n",
       "      <th>578</th>\n",
       "      <td>1290000</td>\n",
       "      <td>3.089631e+06</td>\n",
       "    </tr>\n",
       "    <tr>\n",
       "      <th>...</th>\n",
       "      <td>...</td>\n",
       "      <td>...</td>\n",
       "    </tr>\n",
       "    <tr>\n",
       "      <th>215</th>\n",
       "      <td>5499000</td>\n",
       "      <td>4.478514e+06</td>\n",
       "    </tr>\n",
       "    <tr>\n",
       "      <th>440</th>\n",
       "      <td>8949000</td>\n",
       "      <td>7.447289e+06</td>\n",
       "    </tr>\n",
       "    <tr>\n",
       "      <th>816</th>\n",
       "      <td>1799000</td>\n",
       "      <td>1.619567e+06</td>\n",
       "    </tr>\n",
       "    <tr>\n",
       "      <th>912</th>\n",
       "      <td>1799000</td>\n",
       "      <td>1.893651e+06</td>\n",
       "    </tr>\n",
       "    <tr>\n",
       "      <th>687</th>\n",
       "      <td>1999000</td>\n",
       "      <td>1.328098e+06</td>\n",
       "    </tr>\n",
       "  </tbody>\n",
       "</table>\n",
       "<p>102 rows × 2 columns</p>\n",
       "</div>"
      ],
      "text/plain": [
       "     Real Values  Predicted Values\n",
       "689       999000      8.590869e+05\n",
       "518      2048000      2.805973e+06\n",
       "940      1368800      2.150501e+06\n",
       "96       1980000      1.885706e+06\n",
       "578      1290000      3.089631e+06\n",
       "..           ...               ...\n",
       "215      5499000      4.478514e+06\n",
       "440      8949000      7.447289e+06\n",
       "816      1799000      1.619567e+06\n",
       "912      1799000      1.893651e+06\n",
       "687      1999000      1.328098e+06\n",
       "\n",
       "[102 rows x 2 columns]"
      ]
     },
     "execution_count": 15,
     "metadata": {},
     "output_type": "execute_result"
    }
   ],
   "source": [
    "df1 = pd.DataFrame ({'Real Values': y_test, 'Predicted Values': prediksi}) \n",
    "df1"
   ]
  },
  {
   "cell_type": "code",
   "execution_count": 16,
   "metadata": {},
   "outputs": [
    {
     "data": {
      "text/html": [
       "<div>\n",
       "<style scoped>\n",
       "    .dataframe tbody tr th:only-of-type {\n",
       "        vertical-align: middle;\n",
       "    }\n",
       "\n",
       "    .dataframe tbody tr th {\n",
       "        vertical-align: top;\n",
       "    }\n",
       "\n",
       "    .dataframe thead th {\n",
       "        text-align: right;\n",
       "    }\n",
       "</style>\n",
       "<table border=\"1\" class=\"dataframe\">\n",
       "  <thead>\n",
       "    <tr style=\"text-align: right;\">\n",
       "      <th></th>\n",
       "      <th>Real Values</th>\n",
       "      <th>Predicted Values</th>\n",
       "    </tr>\n",
       "  </thead>\n",
       "  <tbody>\n",
       "    <tr>\n",
       "      <th>count</th>\n",
       "      <td>1.020000e+02</td>\n",
       "      <td>1.020000e+02</td>\n",
       "    </tr>\n",
       "    <tr>\n",
       "      <th>mean</th>\n",
       "      <td>2.531568e+06</td>\n",
       "      <td>2.751136e+06</td>\n",
       "    </tr>\n",
       "    <tr>\n",
       "      <th>std</th>\n",
       "      <td>2.584648e+06</td>\n",
       "      <td>2.745761e+06</td>\n",
       "    </tr>\n",
       "    <tr>\n",
       "      <th>min</th>\n",
       "      <td>6.750000e+05</td>\n",
       "      <td>7.519727e+05</td>\n",
       "    </tr>\n",
       "    <tr>\n",
       "      <th>25%</th>\n",
       "      <td>1.099250e+06</td>\n",
       "      <td>1.375781e+06</td>\n",
       "    </tr>\n",
       "    <tr>\n",
       "      <th>50%</th>\n",
       "      <td>1.767000e+06</td>\n",
       "      <td>1.802427e+06</td>\n",
       "    </tr>\n",
       "    <tr>\n",
       "      <th>75%</th>\n",
       "      <td>2.974250e+06</td>\n",
       "      <td>2.794507e+06</td>\n",
       "    </tr>\n",
       "    <tr>\n",
       "      <th>max</th>\n",
       "      <td>1.733000e+07</td>\n",
       "      <td>1.875140e+07</td>\n",
       "    </tr>\n",
       "  </tbody>\n",
       "</table>\n",
       "</div>"
      ],
      "text/plain": [
       "        Real Values  Predicted Values\n",
       "count  1.020000e+02      1.020000e+02\n",
       "mean   2.531568e+06      2.751136e+06\n",
       "std    2.584648e+06      2.745761e+06\n",
       "min    6.750000e+05      7.519727e+05\n",
       "25%    1.099250e+06      1.375781e+06\n",
       "50%    1.767000e+06      1.802427e+06\n",
       "75%    2.974250e+06      2.794507e+06\n",
       "max    1.733000e+07      1.875140e+07"
      ]
     },
     "execution_count": 16,
     "metadata": {},
     "output_type": "execute_result"
    }
   ],
   "source": [
    "df1.describe()"
   ]
  },
  {
   "cell_type": "code",
   "execution_count": 19,
   "metadata": {},
   "outputs": [],
   "source": [
    "def simple_scatter_plot(y_test, prediksi, output_filename, title_name, x_axis_label, y_axis_label):\n",
    "    \"\"\"Simple scatter plot.\n",
    " \n",
    "    Args:\n",
    "        x_data (list): List with x-axis data.\n",
    "        y_data (list): List with y-axis data.\n",
    "        output_filename (str): Path to output image in PNG format.\n",
    "        title_name (int): Plot title.\n",
    "        x_axis_label (str): X-axis Label.\n",
    "        y_axis_label (str): Y-axis Label.\n",
    " \n",
    "    \"\"\"\n",
    "    seaborn.set(color_codes=True)\n",
    "    matplotlib.figure(1, figsize=(9, 6))\n",
    " \n",
    "    matplotlib.title(title_name)\n",
    " \n",
    "    ax = seaborn.scatterplot(x=y_test, y=prediksi)\n",
    " \n",
    "    ax.set(xlabel=x_axis_label, ylabel=y_axis_label)\n",
    " \n",
    "    matplotlib.savefig(output_filename, bbox_inches='tight', dpi=300)\n",
    "    matplotlib.close()"
   ]
  },
  {
   "cell_type": "code",
   "execution_count": 20,
   "metadata": {},
   "outputs": [],
   "source": [
    "# find the correlation between real answer and prediction\n",
    "correlation = round(pearsonr(prediksi, y_test)[0], 5)\n",
    " \n",
    "output_filename = \"rf_regression.png\"\n",
    "title_name = \"Random Forest Regression - Real Ponsel Price vs Predicted Ponsel Price - correlation ({})\".format(correlation)\n",
    "x_axis_label = \"Real Ponsel Price\"\n",
    "y_axis_label = \"Predicted Ponsel Price\"\n",
    "# plot data\n",
    "simple_scatter_plot(y_test, prediksi, output_filename, title_name, x_axis_label, y_axis_label)"
   ]
  },
  {
   "cell_type": "code",
   "execution_count": 21,
   "metadata": {},
   "outputs": [
    {
     "data": {
      "image/png": "[encoded data removed]",
      "text/plain": [
       "<Figure size 432x288 with 1 Axes>"
      ]
     },
     "metadata": {},
     "output_type": "display_data"
    }
   ],
   "source": [
    "# Build a plot\n",
    "plt.scatter(prediksi, y_test)\n",
    "plt.xlabel('Prediction')\n",
    "plt.ylabel('Real value')\n",
    "\n",
    "# Now add the perfect prediction line\n",
    "diagonal = np.linspace(0, np.max(y_test), 100)\n",
    "plt.plot(diagonal, diagonal, '-r')\n",
    "plt.show()"
   ]
  },
  {
   "cell_type": "code",
   "execution_count": 22,
   "metadata": {},
   "outputs": [],
   "source": [
    "# Pull out one tree from the forest\n",
    "tree = rf.estimators_[4]"
   ]
  },
  {
   "cell_type": "code",
   "execution_count": 23,
   "metadata": {},
   "outputs": [],
   "source": [
    "from sklearn.tree import DecisionTreeClassifier, export_graphviz"
   ]
  },
  {
   "cell_type": "code",
   "execution_count": 24,
   "metadata": {},
   "outputs": [],
   "source": [
    "from sklearn.tree import DecisionTreeClassifier, export_graphviz\n",
    "# Export the image to a dot file\n",
    "export_graphviz(tree, out_file = 'tree.dot', feature_names =None, \n",
    "                rounded = True, precision = 1)"
   ]
  },
  {
   "cell_type": "code",
   "execution_count": 25,
   "metadata": {},
   "outputs": [],
   "source": [
    "import pydot"
   ]
  },
  {
   "cell_type": "code",
   "execution_count": 26,
   "metadata": {},
   "outputs": [],
   "source": [
    "import os\n",
    "os.environ[\"PATH\"] += os.pathsep + 'C:/Program Files (x86)/Graphviz2.38/bin/'"
   ]
  },
  {
   "cell_type": "code",
   "execution_count": 27,
   "metadata": {},
   "outputs": [],
   "source": [
    "# Use dot file to create a graph\n",
    "(graph, ) = pydot.graph_from_dot_file('tree.dot')"
   ]
  },
  {
   "cell_type": "code",
   "execution_count": 28,
   "metadata": {},
   "outputs": [],
   "source": [
    "# Write graph to a png file\n",
    "graph.write_png('tree.png')"
   ]
  },
  {
   "cell_type": "code",
   "execution_count": 29,
   "metadata": {},
   "outputs": [
    {
     "data": {
      "text/plain": [
       "RandomForestRegressor(max_depth=4, n_estimators=300)"
      ]
     },
     "execution_count": 29,
     "metadata": {},
     "output_type": "execute_result"
    }
   ],
   "source": [
    "# Limit depth of tree to 3 levels\n",
    "rf_small = RandomForestRegressor(n_estimators=300, max_depth = 4)\n",
    "rf_small.fit(X_train, y_train)"
   ]
  },
  {
   "cell_type": "code",
   "execution_count": 30,
   "metadata": {},
   "outputs": [],
   "source": [
    "# Extract the small tree\n",
    "tree_small = rf_small.estimators_[5]"
   ]
  },
  {
   "cell_type": "code",
   "execution_count": 31,
   "metadata": {},
   "outputs": [],
   "source": [
    "# Save the tree as a png image\n",
    "export_graphviz(tree_small, out_file = 'small_tree.dot', feature_names = None, rounded = True, precision = 1)"
   ]
  },
  {
   "cell_type": "code",
   "execution_count": 32,
   "metadata": {},
   "outputs": [],
   "source": [
    "(graph, ) = pydot.graph_from_dot_file('small_tree.dot')"
   ]
  },
  {
   "cell_type": "code",
   "execution_count": 33,
   "metadata": {},
   "outputs": [],
   "source": [
    "graph.write_png('small_tree3.png')"
   ]
  },
  {
   "cell_type": "code",
   "execution_count": 34,
   "metadata": {},
   "outputs": [
    {
     "name": "stdout",
     "output_type": "stream",
     "text": [
      "Prediction: 2346431\n"
     ]
    }
   ],
   "source": [
    "# make a single prediction\n",
    "row = [[4,8,2,5]]\n",
    "yhat = rf_small.predict(row)\n",
    "print('Prediction: %d' % yhat[0])"
   ]
  }
 ],
 "metadata": {
  "kernelspec": {
   "display_name": "Python 3",
   "language": "python",
   "name": "python3"
  },
  "language_info": {
   "codemirror_mode": {
    "name": "ipython",
    "version": 3
   },
   "file_extension": ".py",
   "mimetype": "text/x-python",
   "name": "python",
   "nbconvert_exporter": "python",
   "pygments_lexer": "ipython3",
   "version": "3.6.5"
  }
 },
 "nbformat": 4,
 "nbformat_minor": 2
}
